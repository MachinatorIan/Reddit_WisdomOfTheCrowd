{
 "cells": [
  {
   "cell_type": "markdown",
   "metadata": {},
   "source": [
    "# Submission Crowd Wisdom\n",
    "### Train A Model To Generate Comments Using The Comment Forrest of A Submission"
   ]
  },
  {
   "cell_type": "code",
   "execution_count": 1,
   "metadata": {},
   "outputs": [],
   "source": [
    "import praw\n",
    "from submission_corpus import SubmissionCorpus\n",
    "from subreddit_corpus import SubredditCorpus\n",
    "from ngram_generator import NgramCommentGenerator"
   ]
  },
  {
   "cell_type": "markdown",
   "metadata": {},
   "source": [
    "#### Step 1: Find A Judgemental Subreddit"
   ]
  },
  {
   "cell_type": "code",
   "execution_count": 2,
   "metadata": {},
   "outputs": [],
   "source": [
    "subreddit_name = 'AmITheAsshole'\n",
    "judgement_categories = ['YTA', 'NTA', 'ESH', 'NAH', 'INFO']"
   ]
  },
  {
   "cell_type": "markdown",
   "metadata": {},
   "source": [
    "#### Step 2: Use Reddit API To Load Subreddit"
   ]
  },
  {
   "cell_type": "code",
   "execution_count": 3,
   "metadata": {},
   "outputs": [],
   "source": [
    "client_id = '71ZX5Cupn2Ohpg'\n",
    "client_secret = 'nzCz5_WlQM4LbJxX-t_3m-tPgZw'\n",
    "\n",
    "reddit = praw.Reddit(user_agent='Comment Extraction',client_id=client_id, client_secret=client_secret)\n",
    "subreddit = reddit.subreddit(subreddit_name)"
   ]
  },
  {
   "cell_type": "markdown",
   "metadata": {},
   "source": [
    "#### Step 3: Generate Corpus Of Submissions To Selected Subreddit."
   ]
  },
  {
   "cell_type": "code",
   "execution_count": 4,
   "metadata": {},
   "outputs": [],
   "source": [
    "sc = SubredditCorpus(subreddit, retrieval_limit=10, bfs_depth=3, judgement_categories=judgement_categories)\n",
    "labeled_submissions = sc.get_subredditCorpus()\n",
    "submission_text = [tup[1] for tup in labeled_submissions]"
   ]
  },
  {
   "cell_type": "markdown",
   "metadata": {},
   "source": [
    "#### Step 4: Pick A Value For N (N Determines The N-Gram Size) + Build N-Gram Model"
   ]
  },
  {
   "cell_type": "code",
   "execution_count": 10,
   "metadata": {},
   "outputs": [],
   "source": [
    "N=3\n",
    "ncg = NgramCommentGenerator(submission_text, N=N)"
   ]
  },
  {
   "cell_type": "markdown",
   "metadata": {},
   "source": [
    "#### Step 7: Pick A Non-Zero Sentiment From The Judgement Summary + Generate Comment! "
   ]
  },
  {
   "cell_type": "code",
   "execution_count": 11,
   "metadata": {},
   "outputs": [
    {
     "data": {
      "text/plain": [
       "\"<c> <s> YTA You 'll never read this , but how you treat your sister in law ’ s child , treat them like a walking womb with no opinion . </s> <s> Maybe she wouldn ’ t care at all about her or the things she wants for her . </s> <s> Childbirth absolutely *wrecks* your body ? </s> <s> Because honestly , pregnancy takes a huge toll on the spot . </s> <s> Asking someone to go to work for a child would even ask . </s> <s> You asked a woman who does n't want kids ; hormones are a thing ) , and that 's why , or could n't seduce the people she 'd have to give up right away . </s> <s> I 'm not surprised she blocked you . </s> <s> First of all unless you did n't clarify what she wants , and when she 's `` vocally against having children . </s> <s> And you need to stay childfree and keep her womb unused . </s> </c>\""
      ]
     },
     "execution_count": 11,
     "metadata": {},
     "output_type": "execute_result"
    }
   ],
   "source": [
    "ncg.generate_comment('YTA')"
   ]
  },
  {
   "cell_type": "code",
   "execution_count": null,
   "metadata": {},
   "outputs": [],
   "source": []
  }
 ],
 "metadata": {
  "kernelspec": {
   "display_name": "Python 3",
   "language": "python",
   "name": "python3"
  },
  "language_info": {
   "codemirror_mode": {
    "name": "ipython",
    "version": 3
   },
   "file_extension": ".py",
   "mimetype": "text/x-python",
   "name": "python",
   "nbconvert_exporter": "python",
   "pygments_lexer": "ipython3",
   "version": "3.7.3"
  }
 },
 "nbformat": 4,
 "nbformat_minor": 2
}
