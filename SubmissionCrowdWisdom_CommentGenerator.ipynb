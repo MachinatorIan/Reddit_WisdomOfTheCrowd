{
 "cells": [
  {
   "cell_type": "markdown",
   "metadata": {},
   "source": [
    "# Submission Crowd Wisdom\n",
    "### Train A Model To Generate Comments Using The Comment Forrest of A Submission"
   ]
  },
  {
   "cell_type": "code",
   "execution_count": 4,
   "metadata": {},
   "outputs": [],
   "source": [
    "import praw\n",
    "from submission_corpus import SubmissionCorpus\n",
    "from ngram_generator import NgramCommentGenerator"
   ]
  },
  {
   "cell_type": "markdown",
   "metadata": {},
   "source": [
    "#### Step 1: Find A Judgemental Subreddit"
   ]
  },
  {
   "cell_type": "code",
   "execution_count": 5,
   "metadata": {},
   "outputs": [],
   "source": [
    "subreddit_name = 'AmITheAsshole'\n",
    "judgement_categories = ['YTA', 'NTA', 'ESH', 'NAH', 'INFO']"
   ]
  },
  {
   "cell_type": "markdown",
   "metadata": {},
   "source": [
    "#### Step 2: Find A Sumbission\n",
    "\n",
    "2a. Look at the URL or your desired submission.   \n",
    "Ex:  https://www.reddit.com/r/AmItheAsshole/comments/e7t57k/aita_for_admitting_i_regret_having_children/\n",
    "\n",
    "2b. Extract the code after 'comments/'.  \n",
    "Using the URL above: Sumbission ID = e7t57k"
   ]
  },
  {
   "cell_type": "code",
   "execution_count": 6,
   "metadata": {},
   "outputs": [],
   "source": [
    "submission_id = 'dv9ogm'"
   ]
  },
  {
   "cell_type": "markdown",
   "metadata": {},
   "source": [
    "#### Step 4: Use The Reddit API to Retrieve The Submission "
   ]
  },
  {
   "cell_type": "code",
   "execution_count": 7,
   "metadata": {},
   "outputs": [],
   "source": [
    "client_id = '71ZX5Cupn2Ohpg'\n",
    "client_secret = 'nzCz5_WlQM4LbJxX-t_3m-tPgZw'\n",
    "\n",
    "reddit = praw.Reddit(user_agent='Comment Extraction',client_id=client_id, client_secret=client_secret)\n",
    "subreddit = reddit.subreddit(subreddit_name)"
   ]
  },
  {
   "cell_type": "markdown",
   "metadata": {},
   "source": [
    "#### Step 5: Generate Comment Corpus From Submission + Check Judgement"
   ]
  },
  {
   "cell_type": "code",
   "execution_count": 8,
   "metadata": {},
   "outputs": [
    {
     "data": {
      "text/plain": [
       "[('YTA', 0.9960862871663606),\n",
       " ('NTA', 0.0),\n",
       " ('ESH', 0.0),\n",
       " ('NAH', 0.0),\n",
       " ('INFO', 0.003913712833639382)]"
      ]
     },
     "execution_count": 8,
     "metadata": {},
     "output_type": "execute_result"
    }
   ],
   "source": [
    "sc = SubmissionCorpus(reddit.submission(id=submission_id), bfs_depth=1, judgement_categories=judgement_categories, judgement_weight='none')\n",
    "cc = sc.get_commentCorpus()\n",
    "sc.summarize_judgement()"
   ]
  },
  {
   "cell_type": "markdown",
   "metadata": {},
   "source": [
    "#### Step 6: Pick A Value For N (N Determines The N-Gram Size) + Build N-Gram Model"
   ]
  },
  {
   "cell_type": "code",
   "execution_count": 10,
   "metadata": {},
   "outputs": [],
   "source": [
    "N=3\n",
    "ncg = NgramCommentGenerator(cc, N=N)"
   ]
  },
  {
   "cell_type": "markdown",
   "metadata": {},
   "source": [
    "#### Step 7: Pick A Non-Zero Sentiment From The Judgement Summary + Generate Comment! "
   ]
  },
  {
   "cell_type": "code",
   "execution_count": 11,
   "metadata": {},
   "outputs": [
    {
     "data": {
      "text/plain": [
       "\"<c> <s> YTA You 'll never read this , but how you treat your sister in law ’ s child , treat them like a walking womb with no opinion . </s> <s> Maybe she wouldn ’ t care at all about her or the things she wants for her . </s> <s> Childbirth absolutely *wrecks* your body ? </s> <s> Because honestly , pregnancy takes a huge toll on the spot . </s> <s> Asking someone to go to work for a child would even ask . </s> <s> You asked a woman who does n't want kids ; hormones are a thing ) , and that 's why , or could n't seduce the people she 'd have to give up right away . </s> <s> I 'm not surprised she blocked you . </s> <s> First of all unless you did n't clarify what she wants , and when she 's `` vocally against having children . </s> <s> And you need to stay childfree and keep her womb unused . </s> </c>\""
      ]
     },
     "execution_count": 11,
     "metadata": {},
     "output_type": "execute_result"
    }
   ],
   "source": [
    "ncg.generate_comment('YTA')"
   ]
  },
  {
   "cell_type": "code",
   "execution_count": null,
   "metadata": {},
   "outputs": [],
   "source": []
  }
 ],
 "metadata": {
  "kernelspec": {
   "display_name": "Python 3",
   "language": "python",
   "name": "python3"
  },
  "language_info": {
   "codemirror_mode": {
    "name": "ipython",
    "version": 3
   },
   "file_extension": ".py",
   "mimetype": "text/x-python",
   "name": "python",
   "nbconvert_exporter": "python",
   "pygments_lexer": "ipython3",
   "version": "3.7.3"
  }
 },
 "nbformat": 4,
 "nbformat_minor": 2
}
